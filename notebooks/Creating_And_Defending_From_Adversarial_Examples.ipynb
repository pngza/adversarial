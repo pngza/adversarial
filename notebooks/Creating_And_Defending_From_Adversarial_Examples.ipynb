{
 "cells": [
  {
   "cell_type": "markdown",
   "metadata": {},
   "source": [
    "# Know your enemy\n",
    "## How you can create and defend against adversarial attacks\n",
    "\n",
    "This notebook is an accompaniment to my [Medium post](https://towardsdatascience.com/know-your-enemy-7f7c5038bdf3)\n",
    "\n",
    "The current driving force in machine learning is to produce increasingly more accurate models while less attention has been paid to the security and robustness of these models. As I covered in my [previous post](https://medium.com/@oknagg/know-your-enemy-the-fascinating-implications-of-adversarial-examples-5936bccb24af) ML models such as image classifiers are vulnerable to tiny perturbations to their inputs that cause them to make the wrong decisions. \n",
    "\n",
    "Contents of this notebook:\n",
    "1. Training an MNIST classifier on natural samples\n",
    "2. Evaluating the effectiveness of $L^2$ and $L^{\\infty}$ bounded PGD attacks on this classifier\n",
    "3. Adversarsial training of a robust MNIST classifier (from [Madry et al 2017](https://arxiv.org/pdf/1706.06083.pdf))\n",
    "4. Evaluating the robust classifier\n",
    "5. Some unexpected benefits of the robust classifier"
   ]
  },
  {
   "cell_type": "markdown",
   "metadata": {},
   "source": [
    "## Setup"
   ]
  },
  {
   "cell_type": "code",
   "execution_count": 3,
   "metadata": {},
   "outputs": [],
   "source": [
    "import numpy as np\n",
    "import pandas as pd\n",
    "from torch import nn, optim\n",
    "from torch.utils.data import DataLoader\n",
    "import torch.nn.functional as F\n",
    "from torchvision import transforms, datasets\n",
    "from multiprocessing import cpu_count\n",
    "from collections import OrderedDict\n",
    "import matplotlib.pyplot as plt\n",
    "import torch\n",
    "import olympic"
   ]
  },
  {
   "cell_type": "code",
   "execution_count": 4,
   "metadata": {},
   "outputs": [],
   "source": [
    "import sys\n",
    "from typing import Union, Callable, Tuple\n",
    "sys.path.append('../adversarial/')\n",
    "sys.path.append('../')\n",
    "from functional import boundary, iterated_fgsm, local_search, pgd"
   ]
  },
  {
   "cell_type": "markdown",
   "metadata": {},
   "source": [
    "This notebook won't take too long to run if you have a powerful GPU. The majority of the run-time is adversarial training but this repo contains pretrained robust models."
   ]
  },
  {
   "cell_type": "code",
   "execution_count": 5,
   "metadata": {},
   "outputs": [],
   "source": [
    "if torch.cuda.is_available():\n",
    "    DEVICE = 'cuda'\n",
    "else:\n",
    "    DEVICE = 'cpu'\n",
    "    \n",
    "with plt.style.context('ggplot'):\n",
    "    COLOURS = plt.rcParams['axes.prop_cycle'].by_key()['color']"
   ]
  },
  {
   "cell_type": "markdown",
   "metadata": {},
   "source": [
    "# Training an MNIST classifier"
   ]
  },
  {
   "cell_type": "code",
   "execution_count": 6,
   "metadata": {},
   "outputs": [],
   "source": [
    "transform = transforms.Compose([\n",
    "    transforms.ToTensor(),\n",
    "])\n",
    "\n",
    "train = datasets.MNIST('../data/', train=True, transform=transform, download=True)\n",
    "val = datasets.MNIST('../data/', train=False, transform=transform, download=True)\n",
    "\n",
    "train_loader = DataLoader(train, batch_size=128, num_workers=cpu_count())\n",
    "val_loader = DataLoader(val, batch_size=128, num_workers=cpu_count())"
   ]
  },
  {
   "cell_type": "code",
   "execution_count": 7,
   "metadata": {},
   "outputs": [],
   "source": [
    "class Net(nn.Module):\n",
    "    def __init__(self):\n",
    "        super(Net, self).__init__()\n",
    "        self.conv1 = nn.Conv2d(1, 32, kernel_size=5)\n",
    "        self.conv2 = nn.Conv2d(32, 64, kernel_size=5)\n",
    "        self.fc1 = nn.Linear(1024, 10)\n",
    "\n",
    "    def forward(self, x):\n",
    "        x = F.relu(F.max_pool2d(self.conv1(x), 2))\n",
    "        x = F.relu(F.max_pool2d(self.conv2(x), 2))\n",
    "        x = x.view(-1, 1024)\n",
    "        x = self.fc1(x)\n",
    "        return F.log_softmax(x, dim=1)"
   ]
  },
  {
   "cell_type": "code",
   "execution_count": 8,
   "metadata": {},
   "outputs": [],
   "source": [
    "model = Net().to(DEVICE)\n",
    "optimiser = optim.SGD(model.parameters(), lr=0.1)\n",
    "loss_fn = nn.CrossEntropyLoss()"
   ]
  },
  {
   "cell_type": "code",
   "execution_count": 9,
   "metadata": {
    "scrolled": true
   },
   "outputs": [
    {
     "name": "stderr",
     "output_type": "stream",
     "text": [
      "\r",
      "Epoch 1:   0%|          | 0/469 [00:00<?, ?it/s]"
     ]
    },
    {
     "name": "stdout",
     "output_type": "stream",
     "text": [
      "Begin training...\n"
     ]
    },
    {
     "name": "stderr",
     "output_type": "stream",
     "text": [
      "Epoch 1: 100%|██████████| 469/469 [00:03<00:00, 59.72it/s, loss=0.282, accuracy=0.918, val_loss=0.112, val_accuracy=0.963]\n",
      "Epoch 2: 100%|██████████| 469/469 [00:03<00:00, 117.90it/s, loss=0.0826, accuracy=0.976, val_loss=0.0747, val_accuracy=0.976]\n",
      "Epoch 3: 100%|██████████| 469/469 [00:03<00:00, 119.14it/s, loss=0.062, accuracy=0.981, val_loss=0.0604, val_accuracy=0.98]\n",
      "Epoch 4: 100%|██████████| 469/469 [00:04<00:00, 115.97it/s, loss=0.0513, accuracy=0.985, val_loss=0.0523, val_accuracy=0.983]\n",
      "Epoch 5: 100%|██████████| 469/469 [00:03<00:00, 117.79it/s, loss=0.0445, accuracy=0.987, val_loss=0.047, val_accuracy=0.985]\n",
      "Epoch 6: 100%|██████████| 469/469 [00:03<00:00, 117.85it/s, loss=0.0394, accuracy=0.988, val_loss=0.0431, val_accuracy=0.986]\n",
      "Epoch 7: 100%|██████████| 469/469 [00:04<00:00, 116.95it/s, loss=0.0353, accuracy=0.99, val_loss=0.041, val_accuracy=0.987]\n",
      "Epoch 8: 100%|██████████| 469/469 [00:03<00:00, 60.11it/s, loss=0.032, accuracy=0.991, val_loss=0.039, val_accuracy=0.987]\n",
      "Epoch 9: 100%|██████████| 469/469 [00:03<00:00, 117.37it/s, loss=0.0292, accuracy=0.992, val_loss=0.0376, val_accuracy=0.988]\n",
      "Epoch 10: 100%|██████████| 469/469 [00:04<00:00, 117.01it/s, loss=0.0267, accuracy=0.992, val_loss=0.0371, val_accuracy=0.988]\n",
      "Epoch 11: 100%|██████████| 469/469 [00:03<00:00, 119.20it/s, loss=0.0245, accuracy=0.993, val_loss=0.0368, val_accuracy=0.988]\n",
      "Epoch 12: 100%|██████████| 469/469 [00:03<00:00, 118.23it/s, loss=0.0225, accuracy=0.994, val_loss=0.036, val_accuracy=0.988]\n",
      "Epoch 13: 100%|██████████| 469/469 [00:03<00:00, 118.15it/s, loss=0.0207, accuracy=0.995, val_loss=0.0358, val_accuracy=0.988]\n",
      "Epoch 14: 100%|██████████| 469/469 [00:03<00:00, 117.65it/s, loss=0.0191, accuracy=0.995, val_loss=0.0358, val_accuracy=0.988]\n",
      "Epoch 15: 100%|██████████| 469/469 [00:04<00:00, 116.45it/s, loss=0.0176, accuracy=0.996, val_loss=0.0356, val_accuracy=0.988]\n",
      "Epoch 16: 100%|██████████| 469/469 [00:03<00:00, 117.37it/s, loss=0.0163, accuracy=0.996, val_loss=0.0357, val_accuracy=0.988]\n",
      "Epoch 17: 100%|██████████| 469/469 [00:03<00:00, 117.96it/s, loss=0.015, accuracy=0.997, val_loss=0.0359, val_accuracy=0.988]\n",
      "Epoch 18: 100%|██████████| 469/469 [00:04<00:00, 58.76it/s, loss=0.0139, accuracy=0.997, val_loss=0.0362, val_accuracy=0.988]\n",
      "Epoch 19: 100%|██████████| 469/469 [00:03<00:00, 53.66it/s, loss=0.0129, accuracy=0.997, val_loss=0.0366, val_accuracy=0.988]\n",
      "Epoch 20: 100%|██████████| 469/469 [00:03<00:00, 117.80it/s, loss=0.0119, accuracy=0.997, val_loss=0.0373, val_accuracy=0.988]"
     ]
    },
    {
     "name": "stdout",
     "output_type": "stream",
     "text": [
      "Finished.\n"
     ]
    },
    {
     "name": "stderr",
     "output_type": "stream",
     "text": [
      "\n"
     ]
    }
   ],
   "source": [
    "history_natural = olympic.fit(\n",
    "    model,\n",
    "    optimiser,\n",
    "    loss_fn,\n",
    "    dataloader=train_loader,\n",
    "    epochs=20,\n",
    "    metrics=['accuracy'],\n",
    "    prepare_batch = lambda batch: (batch[0].to(DEVICE), batch[1].to(DEVICE)),\n",
    "    callbacks=[\n",
    "        olympic.callbacks.Evaluate(val_loader),\n",
    "        olympic.callbacks.ReduceLROnPlateau(patience=5)\n",
    "    ]\n",
    ")"
   ]
  },
  {
   "cell_type": "code",
   "execution_count": 10,
   "metadata": {},
   "outputs": [
    {
     "data": {
      "text/plain": [
       "{'val_accuracy': 0.9879}"
      ]
     },
     "execution_count": 10,
     "metadata": {},
     "output_type": "execute_result"
    }
   ],
   "source": [
    "olympic.evaluate(model, val_loader, metrics=['accuracy'],\n",
    "                 prepare_batch = lambda batch: (batch[0].to(DEVICE), batch[1].to(DEVICE)))"
   ]
  },
  {
   "cell_type": "markdown",
   "metadata": {},
   "source": [
    "This is about the level of test accuracy we expect for a basic convolutional network on MNIST without any further tricks. "
   ]
  },
  {
   "cell_type": "markdown",
   "metadata": {},
   "source": [
    "# Iterative adversarial attacks\n",
    "Here I will show how to use an iterative attack method to create adversarial examples. I will visualise examples for a $L^2$ and $L^{\\infty}$ bounded adversaries and calculate accuracies against different size adversarial perturbations.\n",
    "\n",
    "The actual implementation of the attacks is in the repo that contains this notebook, see `adversarial.functional.__iterative_gradient`."
   ]
  },
  {
   "cell_type": "code",
   "execution_count": 65,
   "metadata": {},
   "outputs": [],
   "source": [
    "def visualise_adversarial_examples(model, x, y, l2_eps=2.0, linf_eps=0.2):\n",
    "    x = x.unsqueeze(0).to(DEVICE)\n",
    "    y = y.unsqueeze(0).to(DEVICE)\n",
    "    \n",
    "    y_target = None\n",
    "    y_target = val[9][1].unsqueeze(0).to(DEVICE)\n",
    "    \n",
    "    x_adv_l2 = pgd(model, x, y, torch.nn.CrossEntropyLoss(), k=120, step=0.1, eps=l2_eps, norm=2, y_target=y_target)\n",
    "    x_adv_linf = iterated_fgsm(model, x, y, torch.nn.CrossEntropyLoss(), k=60, step=0.01, eps=linf_eps, norm='inf', y_target=y_target)\n",
    "    \n",
    "    y_pred = model(x)\n",
    "    y_pred_l2 = model(x_adv_l2)\n",
    "    y_pred_linf = model(x_adv_linf)\n",
    "    \n",
    "    fig, axes = plt.subplots(1, 3, figsize=(15,5))\n",
    "    \n",
    "    axes[0].imshow(x[0, 0].cpu().numpy(), cmap='gray')\n",
    "    axes[0].set_title(\n",
    "        f'Natural, '\n",
    "        f'P({ y_pred.argmax(dim=1).item()}) = '\n",
    "        f'{np.round(y_pred.softmax(dim=1)[0, y_pred.argmax(dim=1).item()].item(), 3)}')\n",
    "    axes[0].set_xticks([])\n",
    "    axes[0].set_yticks([])\n",
    "    \n",
    "    axes[1].imshow(x_adv_l2[0, 0].cpu().numpy(), cmap='gray')\n",
    "    axes[1].set_title(\n",
    "        f'$L^2$ adversary, '\n",
    "        f'eps={l2_eps}, '\n",
    "        f'P({y_pred_l2.argmax(dim=1).item()}) = '\n",
    "        f'{np.round(y_pred_l2.softmax(dim=1)[0, y_pred_l2.argmax(dim=1).item()].item(), 3)}')\n",
    "    axes[1].set_xticks([])\n",
    "    axes[1].set_yticks([])\n",
    "    \n",
    "    axes[2].imshow(x_adv_linf[0, 0].cpu().numpy(), cmap='gray')\n",
    "    axes[2].set_title(\n",
    "        '$L^{\\infty}$ adversary, '\n",
    "        f'eps={linf_eps}, '\n",
    "        f'P({y_pred_l2.argmax(dim=1).item()}) = '\n",
    "        f'{np.round(y_pred_linf.softmax(dim=1)[0, y_pred_linf.argmax(dim=1).item()].item(), 3)}')\n",
    "    axes[2].set_xticks([])\n",
    "    axes[2].set_yticks([])\n",
    "    \n",
    "    \n",
    "    plt.show()"
   ]
  },
  {
   "cell_type": "code",
   "execution_count": 66,
   "metadata": {},
   "outputs": [
    {
     "data": {
      "image/png": "[encoded data removed]",
      "text/plain": [
       "<Figure size 1080x360 with 3 Axes>"
      ]
     },
     "metadata": {},
     "output_type": "display_data"
    },
    {
     "data": {
      "image/png": "[encoded data removed]",
      "text/plain": [
       "<Figure size 1080x360 with 3 Axes>"
      ]
     },
     "metadata": {},
     "output_type": "display_data"
    },
    {
     "data": {
      "image/png": "[encoded data removed]",
      "text/plain": [
       "<Figure size 1080x360 with 3 Axes>"
      ]
     },
     "metadata": {},
     "output_type": "display_data"
    }
   ],
   "source": [
    "visualise_adversarial_examples(model, *val[0])\n",
    "visualise_adversarial_examples(model, *val[2])\n",
    "visualise_adversarial_examples(model, *val[4])"
   ]
  },
  {
   "cell_type": "markdown",
   "metadata": {},
   "source": [
    "Adversarial examples for MNIST are much more visible than for datasets like ImageNet due to its lower dimension/resolution - however the non-robust classifier trained earlier is comprehensively fooled by these images."
   ]
  },
  {
   "cell_type": "markdown",
   "metadata": {},
   "source": [
    "## Quantifying adversarial accuracy"
   ]
  },
  {
   "cell_type": "code",
   "execution_count": 67,
   "metadata": {},
   "outputs": [],
   "source": [
    "def evaluate_against_adversary(model, k, eps, step, norm):\n",
    "    total = 0\n",
    "    acc = 0\n",
    "    for x, y in val_loader:\n",
    "        total += x.size(0)\n",
    "        \n",
    "        if norm == 2:\n",
    "            x_adv = pgd(\n",
    "                model, x.to(DEVICE), y.to(DEVICE), torch.nn.CrossEntropyLoss(), k=k, step=step, eps=eps, norm=2)\n",
    "        elif norm == 'inf':\n",
    "            x_adv = iterated_fgsm(\n",
    "                model, x.to(DEVICE), y.to(DEVICE), torch.nn.CrossEntropyLoss(), k=k, step=step, eps=eps, norm='inf')\n",
    "        \n",
    "        y_pred = model(x_adv)\n",
    "\n",
    "        acc += olympic.metrics.accuracy(y.to(DEVICE), y_pred) * x.size(0)\n",
    "\n",
    "    return acc/total"
   ]
  },
  {
   "cell_type": "code",
   "execution_count": 68,
   "metadata": {
    "scrolled": true
   },
   "outputs": [],
   "source": [
    "pgd_attack_range = np.arange(0.0, 6.1, 1./3)\n",
    "pgd_acc = []\n",
    "for eps in pgd_attack_range:\n",
    "    pgd_acc.append(evaluate_against_adversary(model, k=40, eps=eps, step=0.1, norm=2))"
   ]
  },
  {
   "cell_type": "code",
   "execution_count": 69,
   "metadata": {},
   "outputs": [],
   "source": [
    "iter_fgsm_attack_range = np.arange(0.0, 0.52, 0.025)\n",
    "iter_fgsm_acc = []\n",
    "for eps in iter_fgsm_attack_range:\n",
    "    iter_fgsm_acc.append(evaluate_against_adversary(model, k=40, step=0.01, eps=eps, norm='inf'))"
   ]
  },
  {
   "cell_type": "code",
   "execution_count": 70,
   "metadata": {},
   "outputs": [
    {
     "data": {
      "image/png": "[encoded data removed]",
      "text/plain": [
       "<Figure size 1080x360 with 2 Axes>"
      ]
     },
     "metadata": {},
     "output_type": "display_data"
    },
    {
     "data": {
      "text/plain": [
       "<Figure size 1008x504 with 0 Axes>"
      ]
     },
     "metadata": {},
     "output_type": "display_data"
    }
   ],
   "source": [
    "with plt.style.context('ggplot'):\n",
    "    fig, axes = plt.subplots(1, 2, figsize=(15,5))\n",
    "    plt.figure(figsize=(14,7))\n",
    "    \n",
    "    axes[0].set_title('$L^2$-bounded adversary')\n",
    "    axes[0].plot(pgd_attack_range, pgd_acc)\n",
    "    axes[0].set_ylabel('Accuracy')\n",
    "    axes[0].set_xlabel('Epsilon')\n",
    "    axes[0].set_ylim((0,1))\n",
    "    \n",
    "    axes[1].set_title('$L^{\\infty}$-bounded adversary')\n",
    "    axes[1].plot(iter_fgsm_attack_range, iter_fgsm_acc)\n",
    "    axes[1].set_ylabel('Accuracy')\n",
    "    axes[1].set_xlabel('Epsilon')\n",
    "    axes[1].set_ylim((0,1))\n",
    "    \n",
    "    plt.show()"
   ]
  },
  {
   "cell_type": "markdown",
   "metadata": {},
   "source": [
    "$L^2$ and $L^{\\infty}$ bounded attacks of the size  shown above reduce the accuracy of our model to around the random-guessing level."
   ]
  },
  {
   "cell_type": "markdown",
   "metadata": {},
   "source": [
    "## Adversarial Training\n",
    "The current state of the art defense against this attack is adversarial training, this is not the same training scheme as generative adversarial networks (GANs) although adversarially trained classifiers to exhibit GAN-like properties as I'll demonstrate later. \n",
    "\n",
    "Adversarial training is simply putting the PGD attack inside your training loop. This is can be viewed as \"ultimate data augmentation\" as instead of performing random transformations (rescaling, cropping, mirroring etc.) as a preprocessing step we create specific perturbations that best fool our model and indeed adversarially trained models do exhibit less overfitting when trained on small datasets.\n",
    "\n",
    "This seems like an obvious approach but it is not obvious that such a training method will actually converge. Here's why: in regular training we minimise the expected natural loss over our dataset $\\{x, y\\}$, w.r.t our model parameters, $\\theta$.\n",
    "\n",
    "$\\min_{\\theta} \\mathcal{L}(x, y; \\theta)$\n",
    "\n",
    "However in adversarial training we are minimising the following loss function where Δ is a set of perturbations we want our model to be invariant to such as the $L^2$ and $L^{\\infty}$ perturbations discussed earlier.\n",
    "\n",
    "$\\min_{\\theta}  \\max_{\\delta \\in \\Delta} \\mathcal{L}(x + \\delta, y; \\theta)$\n",
    "\n",
    "Hence we are now solving a minimax AKA saddle-point problem that is guaranteed to be non-convex. Similarities can be drawn between this and the GAN loss function below that is also a two-player minimax game where the players are the discriminator and generator instead of adversary and network.\n",
    "\n",
    "$\\min_{G}  \\max_{D} \\left [\\mathbb{E}_{x \\sim p_{data}(x)}[\\log D(x)] + \\mathbb{E}_{z \\sim p(z)}[\\log(1 - D(G(z)))]  \\right ]$\n",
    "\n",
    "However as you'll see below this training does converge at the cost of ~10x more training time per epoch as we solving a multistep optimisation problem (i.e. PGD) for each training step of our network. Another thing to note is that convergence is slower so I train the networks for 50 rather than 20 epochs leading to a total of 25x greater training times."
   ]
  },
  {
   "cell_type": "code",
   "execution_count": 71,
   "metadata": {},
   "outputs": [],
   "source": [
    "def adversarial_training(model, optimiser, loss_fn, x, y, epoch, adversary, k, step, eps, norm):\n",
    "    \"\"\"Performs a single update against a specified adversary\"\"\"\n",
    "    model.train()\n",
    "\n",
    "    # Adversial perturbation\n",
    "    x_adv = adversary(model, x, y, loss_fn, k=k, step=step, eps=eps, norm=norm)\n",
    "\n",
    "    optimiser.zero_grad()\n",
    "    y_pred = model(x_adv)\n",
    "    loss = loss_fn(y_pred, y)\n",
    "    loss.backward()\n",
    "    optimiser.step()\n",
    "\n",
    "    return loss, y_pred"
   ]
  },
  {
   "cell_type": "markdown",
   "metadata": {},
   "source": [
    "I use the `olympic` package to make writing the training loop much simpler. `olympic` implements a Keras-like API for PyTorch.\n",
    "\n",
    "Shameless advertising: I wrote this package and think its pretty handy, you should give it a try."
   ]
  },
  {
   "cell_type": "code",
   "execution_count": null,
   "metadata": {
    "scrolled": true
   },
   "outputs": [
    {
     "name": "stderr",
     "output_type": "stream",
     "text": [
      "\r",
      "Epoch 1:   0%|          | 0/469 [00:00<?, ?it/s]"
     ]
    },
    {
     "name": "stdout",
     "output_type": "stream",
     "text": [
      "Begin training...\n"
     ]
    },
    {
     "name": "stderr",
     "output_type": "stream",
     "text": [
      "Epoch 1: 100%|██████████| 469/469 [00:32<00:00,  6.19it/s, loss=2.1, accuracy=0.246, val_loss=0.662, val_accuracy=0.845]\n",
      "Epoch 2: 100%|██████████| 469/469 [00:32<00:00,  6.16it/s, loss=1.43, accuracy=0.502, val_loss=0.549, val_accuracy=0.835]\n",
      "Epoch 3: 100%|██████████| 469/469 [00:32<00:00,  6.15it/s, loss=1.06, accuracy=0.636, val_loss=0.457, val_accuracy=0.854]\n",
      "Epoch 4: 100%|██████████| 469/469 [00:32<00:00,  6.16it/s, loss=0.851, accuracy=0.711, val_loss=0.44, val_accuracy=0.859]\n",
      "Epoch 5: 100%|██████████| 469/469 [00:32<00:00,  6.20it/s, loss=0.685, accuracy=0.772, val_loss=0.333, val_accuracy=0.888]\n",
      "Epoch 6:  82%|████████▏ | 384/469 [00:26<00:05, 15.06it/s, loss=0.692, accuracy=0.734]"
     ]
    }
   ],
   "source": [
    "adv_model_linf = Net().to(DEVICE)\n",
    "optimiser = optim.SGD(adv_model_linf.parameters(), lr=0.1)\n",
    "training_history_linf = olympic.fit(\n",
    "    adv_model_linf,\n",
    "    optimiser,\n",
    "    nn.CrossEntropyLoss(),\n",
    "    dataloader=train_loader,\n",
    "    epochs=50,\n",
    "    metrics=['accuracy'],\n",
    "    prepare_batch = lambda batch: (batch[0].to(DEVICE), batch[1].to(DEVICE)),\n",
    "    update_fn=adversarial_training,\n",
    "    update_fn_kwargs={'adversary': iterated_fgsm,'k': 40, 'step': 0.01, 'eps': 0.3, 'norm': 'inf'},\n",
    "    callbacks=[\n",
    "        olympic.callbacks.Evaluate(val_loader),\n",
    "        olympic.callbacks.ReduceLROnPlateau(patience=5, factor=0.5, min_delta=0.005, monitor='val_accuracy')\n",
    "    ]\n",
    ")"
   ]
  },
  {
   "cell_type": "code",
   "execution_count": null,
   "metadata": {
    "scrolled": true
   },
   "outputs": [],
   "source": [
    "adv_model_l2 = Net().to(DEVICE)\n",
    "optimiser = optim.SGD(adv_model_l2.parameters(), lr=0.1)\n",
    "training_history_l2 = olympic.fit(\n",
    "    adv_model_l2,\n",
    "    optimiser,\n",
    "    nn.CrossEntropyLoss(),\n",
    "    dataloader=train_loader,\n",
    "    epochs=50,\n",
    "    metrics=['accuracy'],\n",
    "    prepare_batch = lambda batch: (batch[0].to(DEVICE), batch[1].to(DEVICE)),\n",
    "    update_fn=adversarial_training,\n",
    "    update_fn_kwargs={'adversary': pgd, 'k': 40, 'step': 0.1, 'eps': 3.0, 'norm': 2},\n",
    "    callbacks=[\n",
    "        olympic.callbacks.Evaluate(val_loader),\n",
    "        olympic.callbacks.ReduceLROnPlateau(patience=5, factor=0.5, min_delta=0.005, monitor='val_accuracy')\n",
    "    ]\n",
    ")"
   ]
  },
  {
   "cell_type": "code",
   "execution_count": null,
   "metadata": {},
   "outputs": [],
   "source": [
    "# # Save hardened models\n",
    "# torch.save(adv_model_linf, '../models/mnist_iterated_fgsm_k=40_step=0.01_eps=0.3.pt')\n",
    "# torch.save(adv_model_l2, '../models/mnist_pgd_k=40_step=0.1_eps=3.0.pt')"
   ]
  },
  {
   "cell_type": "markdown",
   "metadata": {},
   "source": [
    "You can simply load the pretrained models here instead of doing the training yourself."
   ]
  },
  {
   "cell_type": "code",
   "execution_count": null,
   "metadata": {},
   "outputs": [],
   "source": [
    "adv_model_linf = torch.load('../models/mnist_iterated_fgsm_k=40_step=0.01_eps=0.3.pt').to(DEVICE)\n",
    "adv_model_l2 = torch.load('../models/mnist_pgd_k=40_step=0.1_eps=3.0.pt').to(DEVICE)"
   ]
  },
  {
   "cell_type": "markdown",
   "metadata": {},
   "source": [
    "## Evaluate robust models"
   ]
  },
  {
   "cell_type": "code",
   "execution_count": null,
   "metadata": {},
   "outputs": [],
   "source": [
    "pgd_acc_linf = []\n",
    "pgd_acc_l2 = []\n",
    "for eps in pgd_attack_range:\n",
    "    pgd_acc_linf.append(evaluate_against_adversary(adv_model_linf, k=120, eps=eps, step=0.25, norm=2))\n",
    "    pgd_acc_l2.append(evaluate_against_adversary(adv_model_l2, k=120, eps=eps, step=0.25, norm=2))"
   ]
  },
  {
   "cell_type": "code",
   "execution_count": null,
   "metadata": {},
   "outputs": [],
   "source": [
    "iter_fgsm_acc_linf = []\n",
    "iter_fgsm_acc_l2 = []\n",
    "for eps in iter_fgsm_attack_range:\n",
    "    iter_fgsm_acc_linf.append(\n",
    "        evaluate_against_adversary(adv_model_linf, k=120, step=0.01, eps=eps, norm='inf'))\n",
    "    iter_fgsm_acc_l2.append(\n",
    "        evaluate_against_adversary(adv_model_l2, k=120, step=0.01, eps=eps, norm='inf'))"
   ]
  },
  {
   "cell_type": "code",
   "execution_count": null,
   "metadata": {},
   "outputs": [],
   "source": [
    "with plt.style.context('ggplot'):\n",
    "    \n",
    "    fig, axes = plt.subplots(1, 2, figsize=(15,5))\n",
    "    plt.figure(figsize=(14,7))\n",
    "    \n",
    "    axes[0].set_title('$L^2$-bounded adversary')\n",
    "    axes[0].plot(pgd_attack_range, pgd_acc, label='Natural')\n",
    "    axes[0].plot(pgd_attack_range, pgd_acc_l2, label='$L2$ training')\n",
    "    axes[0].plot(pgd_attack_range, pgd_acc_linf, label='$L{\\infty}$ training')\n",
    "#     axes[0].vlines([3], 0, 1, colors=COLOURS[1], linestyle='--')\n",
    "    axes[0].set_ylabel('Accuracy')\n",
    "    axes[0].set_xlabel('Epsilon')\n",
    "    axes[0].set_ylim((0,1))\n",
    "    axes[0].legend()\n",
    "    \n",
    "    axes[1].set_title('$L^{\\infty}$-bounded adversary')\n",
    "    axes[1].plot(iter_fgsm_attack_range, iter_fgsm_acc)\n",
    "    axes[1].plot(iter_fgsm_attack_range, iter_fgsm_acc_l2, label='$L2$ training')\n",
    "    axes[1].plot(iter_fgsm_attack_range, iter_fgsm_acc_linf, label='$L{\\infty}$ training')\n",
    "#     axes[1].vlines([0.3], 0, 1, colors=COLOURS[2], linestyle='--')\n",
    "    axes[1].set_xlabel('Epsilon')\n",
    "    axes[1].set_ylim((0,1))\n",
    "    \n",
    "    plt.show()"
   ]
  },
  {
   "cell_type": "markdown",
   "metadata": {},
   "source": [
    "# Class interpolation\n",
    "### Untargeted"
   ]
  },
  {
   "cell_type": "code",
   "execution_count": null,
   "metadata": {},
   "outputs": [],
   "source": [
    "x, y = val[0]\n",
    "x = x.unsqueeze(0).to(DEVICE)\n",
    "y = y.unsqueeze(0).to(DEVICE)\n",
    "x_adv_pgd_hard = pgd(adv_model_l2, x, y, torch.nn.CrossEntropyLoss(), k=240, step=0.25, eps=9.5, norm=2)\n",
    "# x_adv_pgd_hard = pgd(model, x, y, torch.nn.CrossEntropyLoss(), k=240, step=0.25, eps=10, norm=2)\n",
    "\n",
    "y_pred = adv_model_l2(x)\n",
    "y_adv_pred_l2 = adv_model_l2(x_adv_pgd_hard)\n",
    "\n",
    "fig, axes = plt.subplots(1, 2, figsize=(10,5))\n",
    "fig.suptitle(\n",
    "    f'L2 distance = {np.round((x - x_adv_pgd_hard).norm(2).item(), 2)}, '\n",
    "    f'Loss = {torch.nn.CrossEntropyLoss()(y_adv_pred_l2, y).item()}'\n",
    ")\n",
    "axes[0].imshow(x[0, 0].cpu().numpy(), cmap='gray')\n",
    "axes[0].set_title(\n",
    "    f'Sample, '\n",
    "    f'P({y_pred.argmax(dim=1).item()}) = '\n",
    "    f'{np.round(y_pred.softmax(dim=1)[0, y_pred.argmax(dim=1).item()].item(), 3)}'\n",
    ")\n",
    "\n",
    "axes[1].imshow(x_adv_pgd_hard[0, 0].cpu().numpy(), cmap='gray')\n",
    "axes[1].set_title(\n",
    "    'Adversarial sample,'\n",
    "    f'P({y_adv_pred_l2.argmax(dim=1).item()}) = '\n",
    "    f'{np.round(y_adv_pred_l2.softmax(dim=1)[0, y_adv_pred_l2.argmax(dim=1).item()].item(), 3)}'\n",
    ")\n",
    "\n",
    "plt.show()"
   ]
  },
  {
   "cell_type": "markdown",
   "metadata": {},
   "source": [
    "Untargeted adversarial attacks lead to an interpolation from the original class (low loss) to visually similar classes (medium loss) to visually dissimilar classes (high) loss."
   ]
  },
  {
   "cell_type": "code",
   "execution_count": null,
   "metadata": {},
   "outputs": [],
   "source": [
    "preds = []\n",
    "losses = []\n",
    "eps_range = np.linspace(0, 10, 50)\n",
    "for eps in eps_range:\n",
    "    x_adv_pgd_hard = pgd(adv_model_l2, x, y, torch.nn.CrossEntropyLoss(), k=240, step=0.25, eps=eps, norm=2)\n",
    "\n",
    "    y_adv_pred_l2 = adv_model_l2(x_adv_pgd_hard)\n",
    "    \n",
    "    losses.append(torch.nn.CrossEntropyLoss()(y_adv_pred_l2, y).item())\n",
    "    preds.append(y_adv_pred_l2.softmax(dim=1))\n",
    "\n",
    "preds = torch.cat(preds).detach().cpu().numpy()"
   ]
  },
  {
   "cell_type": "code",
   "execution_count": null,
   "metadata": {},
   "outputs": [],
   "source": [
    "with plt.style.context('ggplot'):\n",
    "    plt.figure(figsize=(17,7))\n",
    "    plt.plot(eps_range, losses)\n",
    "    plt.ylabel('Softmax probabilities')\n",
    "    plt.xlabel('Epsilon')\n",
    "    plt.show()"
   ]
  },
  {
   "cell_type": "markdown",
   "metadata": {},
   "source": [
    "I've lost the exact image that lead to the one displayed in the Medium post but in general 7s produce a pretty cool trajectory."
   ]
  },
  {
   "cell_type": "code",
   "execution_count": null,
   "metadata": {
    "scrolled": false
   },
   "outputs": [],
   "source": [
    "with plt.style.context('ggplot'):\n",
    "    plt.figure(figsize=(17,7))\n",
    "    \n",
    "    for i in [7, 9, 4, 5, 6]:\n",
    "        plt.plot(eps_range, preds[:, i], label=i)\n",
    "            \n",
    "    plt.legend()\n",
    "    plt.ylabel('Softmax probabilities')\n",
    "    plt.xlabel('Epsilon')\n",
    "    plt.show()"
   ]
  },
  {
   "cell_type": "markdown",
   "metadata": {},
   "source": [
    "### Targeted"
   ]
  },
  {
   "cell_type": "code",
   "execution_count": null,
   "metadata": {},
   "outputs": [],
   "source": [
    " x_adv_pgd_hard = pgd(adv_model_l2, x, y, torch.nn.CrossEntropyLoss(),\n",
    "                             k=120, step=0.25, eps=4, norm=2, y_target=torch.Tensor([3]).long().to(DEVICE))\n",
    "    \n",
    "print(adv_model_l2(x_adv_pgd_hard).argmax(dim=1).item())\n",
    "fig, axes = plt.subplots(1, 2, figsize=(10,5))\n",
    "\n",
    "axes[0].imshow(x[0, 0].cpu().numpy(), cmap='gray')\n",
    "axes[0].set_title(f'Sample, pred={adv_model_l2(x).softmax(dim=1)[0, y].item()}')\n",
    "\n",
    "axes[1].imshow(x_adv_pgd_hard[0, 0].cpu().numpy(), cmap='gray')\n",
    "axes[1].set_title(f'Adversarial sample, pred={adv_model_l2(x_adv_pgd_hard).softmax(dim=1)[0, y].item()}')\n",
    "\n",
    "plt.show()"
   ]
  },
  {
   "cell_type": "code",
   "execution_count": null,
   "metadata": {},
   "outputs": [],
   "source": [
    "def class_interpolations(eps, model_, random=False):\n",
    "    examples = []\n",
    "    for i in range(10):\n",
    "        if i != 7:\n",
    "            x_adv_pgd_hard = pgd(model_, x, y, torch.nn.CrossEntropyLoss(), random=random,\n",
    "                             k=120, step=0.1, eps=eps, norm=2, y_target=torch.Tensor([i]).long().to(DEVICE))\n",
    "            \n",
    "            examples.append(x_adv_pgd_hard[0, 0].cpu().numpy())\n",
    "        else:\n",
    "            examples.append(x[0, 0].cpu().numpy())\n",
    "\n",
    "    fig, axes = plt.subplots(3, 3, figsize=(15, 15))\n",
    "    fig.suptitle(f'Interpolating with eps={eps}')\n",
    "    idx = list(range(10))\n",
    "    idx.remove(7)\n",
    "\n",
    "    for i, j in enumerate(idx):\n",
    "        axes[i // 3, i % 3].set_title(f'{y.item()} -> {j}')\n",
    "        axes[i // 3, i % 3].imshow(examples[j], cmap='gray')\n",
    "        axes[i // 3, i % 3].set_xticks([])\n",
    "        axes[i // 3, i % 3].set_yticks([])\n",
    "\n",
    "    plt.show()"
   ]
  },
  {
   "cell_type": "code",
   "execution_count": null,
   "metadata": {},
   "outputs": [],
   "source": [
    "class_interpolations(6, adv_model_l2, random=False)"
   ]
  },
  {
   "cell_type": "code",
   "execution_count": null,
   "metadata": {},
   "outputs": [],
   "source": [
    "def smoothly_interpolate(model_, target_class, eps_range):\n",
    "    examples = []\n",
    "    fig, axes = plt.subplots(1, len(eps_range), figsize=(5*len(eps_range), 5))\n",
    "    \n",
    "    y_target = None if target_class is None else torch.Tensor([target_class]).long().to(DEVICE)\n",
    "    \n",
    "    for i, eps in enumerate(eps_range):\n",
    "        x_adv_pgd_hard = pgd(model_, x, y, torch.nn.CrossEntropyLoss(),\n",
    "                         k=120, step=0.1, eps=eps, norm=2, y_target=y_target)\n",
    "\n",
    "        examples.append(x_adv_pgd_hard[0, 0].cpu().numpy())\n",
    "        \n",
    "#         axes[i].set_title(f'{eps}')\n",
    "        axes[i].imshow(x_adv_pgd_hard[0,0].cpu().numpy(), cmap='gray')\n",
    "        axes[i].set_xticks([])\n",
    "        axes[i].set_yticks([])\n",
    "\n",
    "    plt.show()"
   ]
  },
  {
   "cell_type": "code",
   "execution_count": null,
   "metadata": {},
   "outputs": [],
   "source": [
    "x, y = val[2]\n",
    "x = x.unsqueeze(0).to(DEVICE)\n",
    "y = y.unsqueeze(0).to(DEVICE)\n",
    "smoothly_interpolate(adv_model_l2, 3, np.linspace(0, 7.5, 5))\n",
    "smoothly_interpolate(adv_model_l2, 5, np.linspace(0, 7.5, 5))\n",
    "smoothly_interpolate(adv_model_l2, 9, np.linspace(0, 7.5, 5))"
   ]
  },
  {
   "cell_type": "code",
   "execution_count": null,
   "metadata": {},
   "outputs": [],
   "source": [
    "x, y = val[2]\n",
    "x = x.unsqueeze(0).to(DEVICE)\n",
    "y = y.unsqueeze(0).to(DEVICE)\n",
    "smoothly_interpolate(model, 3, np.linspace(0, 6, 5))\n",
    "smoothly_interpolate(model, 5, np.linspace(0, 6, 5))\n",
    "smoothly_interpolate(model, 9, np.linspace(0, 6, 5))"
   ]
  },
  {
   "cell_type": "markdown",
   "metadata": {},
   "source": [
    "### Weight sparsity\n",
    "The $L^{\\infty}$ model shows very sparse weights. Sparse weights are considered benficial for two reasons\n",
    "- Less parameters are involved in the decision of the model (somewhat increased interpretability)\n",
    "- You can prune the zero weights for decreased model size"
   ]
  },
  {
   "cell_type": "code",
   "execution_count": null,
   "metadata": {},
   "outputs": [],
   "source": [
    "adv_model_linf_params = OrderedDict(adv_model_linf.named_parameters())"
   ]
  },
  {
   "cell_type": "code",
   "execution_count": null,
   "metadata": {
    "scrolled": false
   },
   "outputs": [],
   "source": [
    "fig, axes = plt.subplots(4, 8, figsize=(15,15))\n",
    "for i, f in enumerate(adv_model_linf_params['conv1.weight']):\n",
    "    axes[i // 8, i % 8].imshow(f[0].cpu().detach().numpy(), vmin=0, vmax=4)\n",
    "    axes[i // 8, i % 8].set_yticks([])\n",
    "    axes[i // 8, i % 8].set_xticks([])\n",
    "\n",
    "plt.tight_layout()\n",
    "plt.show()"
   ]
  },
  {
   "cell_type": "code",
   "execution_count": null,
   "metadata": {},
   "outputs": [],
   "source": [
    "plt.hist(adv_model_linf_params['conv1.weight'].detach().cpu().numpy().flatten(), bins=np.arange(-0.5, 4, 0.1))\n",
    "plt.yscale('log')\n",
    "plt.show()"
   ]
  },
  {
   "cell_type": "markdown",
   "metadata": {},
   "source": [
    "## Garbage examples"
   ]
  },
  {
   "cell_type": "code",
   "execution_count": null,
   "metadata": {},
   "outputs": [],
   "source": [
    "x_garbage = torch.zeros((10000, 1, 28, 28)).uniform_(0, 1).to(DEVICE)\n",
    "\n",
    "y_pred_garbage = model(x_garbage)\n",
    "y_pred_garbage_l2 = adv_model_l2(x_garbage)\n",
    "y_pred_garbage_linf = adv_model_linf(x_garbage)"
   ]
  },
  {
   "cell_type": "code",
   "execution_count": null,
   "metadata": {},
   "outputs": [],
   "source": [
    "with plt.style.context('ggplot'):\n",
    "    plt.figure(figsize=(14,7))\n",
    "    plt.hist(\n",
    "        y_pred_garbage.softmax(dim=1).max(dim=1)[0].detach().cpu().numpy(),\n",
    "        alpha=0.5,\n",
    "        label='Natural',\n",
    "        bins=np.linspace(0, 1, 100),\n",
    "        density=True\n",
    "    )\n",
    "    plt.hist(\n",
    "        y_pred_garbage_l2.softmax(dim=1).max(dim=1)[0].detach().cpu().numpy(),\n",
    "        alpha=0.5,\n",
    "        label='L2',\n",
    "        bins=np.linspace(0, 1, 100), density=True\n",
    "    )\n",
    "    plt.hist(\n",
    "        y_pred_garbage_linf.softmax(dim=1).max(dim=1)[0].detach().cpu().numpy(), \n",
    "        alpha=0.5,\n",
    "        label='Linf',\n",
    "        bins=np.linspace(0, 1, 100), density=True\n",
    "    )\n",
    "#     plt.yscale('log')\n",
    "    plt.legend()\n",
    "    plt.show()"
   ]
  },
  {
   "cell_type": "markdown",
   "metadata": {},
   "source": [
    "L2 model shows some sort of robustness against garbage examples."
   ]
  },
  {
   "cell_type": "markdown",
   "metadata": {},
   "source": [
    "## Interpretable gradients\n",
    "Robust models show more interpretable gradients."
   ]
  },
  {
   "cell_type": "code",
   "execution_count": null,
   "metadata": {},
   "outputs": [],
   "source": [
    "def visualise_gradients(data_index):\n",
    "    _x, _y = val[data_index]\n",
    "\n",
    "    fig, axes = plt.subplots(1, 3, figsize=(15,5))\n",
    "\n",
    "    x = _x.unsqueeze(0).to(DEVICE).requires_grad_(True)\n",
    "    y = _y.unsqueeze(0).to(DEVICE)\n",
    "    y_pred = model(x)\n",
    "    loss = loss_fn(y_pred, y)\n",
    "    loss.backward()\n",
    "    axes[0].imshow(x.grad[0,0].detach().cpu().numpy())\n",
    "\n",
    "    x = _x.unsqueeze(0).to(DEVICE).requires_grad_(True)\n",
    "    y = _y.unsqueeze(0).to(DEVICE)\n",
    "    y_pred = adv_model_l2(x.clone())\n",
    "    loss = loss_fn(y_pred, y)\n",
    "    loss.backward()\n",
    "    axes[1].imshow(x.grad[0,0].detach().cpu().numpy())\n",
    "\n",
    "    x = _x.unsqueeze(0).to(DEVICE).requires_grad_(True)\n",
    "    y = _y.unsqueeze(0).to(DEVICE)\n",
    "    y_pred = adv_model_linf(x)\n",
    "    loss = loss_fn(y_pred, y)\n",
    "    loss.backward()\n",
    "    axes[2].imshow(x.grad[0,0].detach().cpu().numpy())\n",
    "\n",
    "    plt.show()"
   ]
  },
  {
   "cell_type": "code",
   "execution_count": null,
   "metadata": {},
   "outputs": [],
   "source": [
    "visualise_gradients(0)\n",
    "visualise_gradients(2)\n",
    "visualise_gradients(4)"
   ]
  },
  {
   "cell_type": "code",
   "execution_count": null,
   "metadata": {},
   "outputs": [],
   "source": []
  }
 ],
 "metadata": {
  "kernelspec": {
   "display_name": "Python 3",
   "language": "python",
   "name": "python3"
  },
  "language_info": {
   "codemirror_mode": {
    "name": "ipython",
    "version": 3
   },
   "file_extension": ".py",
   "mimetype": "text/x-python",
   "name": "python",
   "nbconvert_exporter": "python",
   "pygments_lexer": "ipython3",
   "version": "3.6.8"
  }
 },
 "nbformat": 4,
 "nbformat_minor": 2
}
